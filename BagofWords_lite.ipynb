{
 "cells": [
  {
   "cell_type": "code",
   "execution_count": 1,
   "metadata": {},
   "outputs": [],
   "source": [
    "from nltk.corpus import stopwords\n",
    "import string\n",
    "import re\n",
    "import os\n",
    "from collections import Counter\n",
    "\n",
    "rootdir_pos = '/Users/Mal/Desktop/review_polarity/txt_sentoken/pos'\n",
    "rootdir_neg = '/Users/Mal/Desktop/review_polarity/txt_sentoken/neg'"
   ]
  },
  {
   "cell_type": "code",
   "execution_count": 2,
   "metadata": {},
   "outputs": [],
   "source": [
    "def load_doc(filename):\n",
    "    file = open(filename, \"r\")\n",
    "    text = file.read()\n",
    "    file.close()\n",
    "    return text\n",
    "\n",
    "def clean_doc(doc):\n",
    "    tokens = doc.split()\n",
    "    re_punc = re.compile(\"[%s]\" % re.escape(string.punctuation))\n",
    "    tokens = [re_punc.sub(\"\", w) for w in tokens]\n",
    "    tokens = [word for word in tokens if word.isalpha()]\n",
    "    stop_words = set(stopwords.words(\"english\"))\n",
    "    tokens = [w for w in tokens if not w in stop_words]\n",
    "    tokens = [word for word in tokens if len(word) > 1]\n",
    "    return tokens\n",
    "\n",
    "def add_doc_to_vocab(filename, vocab):\n",
    "    doc = load_doc(filename)\n",
    "    tokens = clean_doc(doc)\n",
    "    vocab.update(tokens)"
   ]
  },
  {
   "cell_type": "code",
   "execution_count": 3,
   "metadata": {},
   "outputs": [
    {
     "name": "stdout",
     "output_type": "stream",
     "text": [
      "25767\n"
     ]
    }
   ],
   "source": [
    "vocab = Counter()\n",
    "\n",
    "def process_docs_tokens(pos, neg):\n",
    "    for subdir, dirs, files in os.walk(pos):\n",
    "        for file in files:\n",
    "            filepath = subdir + os.sep + file\n",
    "            #print(file)\n",
    "            if file.startswith(\"cv9\"):\n",
    "                #print(\"here\", file)\n",
    "                continue\n",
    "            else:\n",
    "                add_doc_to_vocab(filepath, vocab)\n",
    "\n",
    "    for subdir, dirs, files in os.walk(neg):\n",
    "        for file in files:\n",
    "            filepath = subdir + os.sep + file\n",
    "            #print(file)\n",
    "            if file.startswith(\"cv9\"):\n",
    "                #print(\"here\", file)\n",
    "                continue\n",
    "            else:\n",
    "                add_doc_to_vocab(filepath, vocab)\n",
    "\n",
    "    #print(len(vocab))\n",
    "    #print(vocab.most_common(50))\n",
    "\n",
    "def save_list(lines, filename):\n",
    "    data = \"\\n\".join(lines)\n",
    "    file = open(filename,\"w\")\n",
    "    file.write(data)\n",
    "    file.close()\n",
    "\n",
    "process_docs_tokens(rootdir_pos, rootdir_neg)\n",
    "min_occurrence = 2\n",
    "tokens = [k for k,c in vocab.items() if c >= min_occurrence]\n",
    "print(len(tokens))\n",
    "save_list(tokens,\"vocab.txt\")"
   ]
  },
  {
   "cell_type": "code",
   "execution_count": 4,
   "metadata": {},
   "outputs": [
    {
     "name": "stderr",
     "output_type": "stream",
     "text": [
      "Using TensorFlow backend.\n"
     ]
    }
   ],
   "source": [
    "def doc_to_line(filename, vocab):\n",
    "    doc = load_doc(filename)\n",
    "    tokens = clean_doc(doc)\n",
    "    tokens = [w for w in tokens if w in vocab]\n",
    "    return  \" \".join(tokens)\n",
    "\n",
    "def process_docs(directory, vocab, is_train):\n",
    "    lines = list()\n",
    "    for subdir, dirs, files in os.walk(directory):\n",
    "        for file in files:\n",
    "            filepath = subdir + os.sep + file\n",
    "            #print(file)\n",
    "            if is_train and file.startswith(\"cv9\"):\n",
    "                #print(\"here\", file)\n",
    "                continue\n",
    "            if not is_train and not file.startswith(\"cv9\"):\n",
    "                continue\n",
    "            else:\n",
    "                add_doc_to_vocab(filepath, vocab)\n",
    "                line = doc_to_line(filepath, vocab)\n",
    "                lines.append(line)\n",
    "    return lines\n",
    "\n",
    "def load_clean_dataset(vocab, is_train):\n",
    "    neg = process_docs(rootdir_neg , vocab, is_train)\n",
    "    pos = process_docs(rootdir_pos, vocab, is_train)\n",
    "    docs = neg + pos\n",
    "    labels = [0 for _ in range(len(neg))] + [1 for _ in range(len(pos))]\n",
    "    return docs, labels\n",
    "\n",
    "from keras.preprocessing.text import Tokenizer\n",
    "\n",
    "def create_tokenizer(lines):\n",
    "    tokenizer = Tokenizer()\n",
    "    tokenizer.fit_on_texts(lines)\n",
    "    return tokenizer\n"
   ]
  },
  {
   "cell_type": "code",
   "execution_count": 10,
   "metadata": {},
   "outputs": [
    {
     "name": "stdout",
     "output_type": "stream",
     "text": [
      "Model: \"sequential_7\"\n",
      "_________________________________________________________________\n",
      "Layer (type)                 Output Shape              Param #   \n",
      "=================================================================\n",
      "dense_13 (Dense)             (None, 50)                2213900   \n",
      "_________________________________________________________________\n",
      "dense_14 (Dense)             (None, 1)                 51        \n",
      "=================================================================\n",
      "Total params: 2,213,951\n",
      "Trainable params: 2,213,951\n",
      "Non-trainable params: 0\n",
      "_________________________________________________________________\n",
      "Epoch 1/10\n",
      " - 5s - loss: 0.4532 - accuracy: 0.8000\n",
      "Epoch 2/10\n",
      " - 4s - loss: 0.0376 - accuracy: 0.9978\n",
      "Epoch 3/10\n",
      " - 4s - loss: 0.0110 - accuracy: 1.0000\n",
      "Epoch 4/10\n",
      " - 4s - loss: 0.0057 - accuracy: 1.0000\n",
      "Epoch 5/10\n",
      " - 4s - loss: 0.0032 - accuracy: 1.0000\n",
      "Epoch 6/10\n",
      " - 4s - loss: 0.0018 - accuracy: 1.0000\n",
      "Epoch 7/10\n",
      " - 4s - loss: 0.0010 - accuracy: 1.0000\n",
      "Epoch 8/10\n",
      " - 4s - loss: 6.7449e-04 - accuracy: 1.0000\n",
      "Epoch 9/10\n",
      " - 4s - loss: 4.7122e-04 - accuracy: 1.0000\n",
      "Epoch 10/10\n",
      " - 4s - loss: 3.4647e-04 - accuracy: 1.0000\n",
      "Test Accuracy: 90.499997\n"
     ]
    }
   ],
   "source": [
    "\n",
    "from keras.utils.vis_utils import plot_model\n",
    "from keras.models import Sequential\n",
    "from keras.layers import Dense\n",
    "def define_model(n_words):\n",
    "  # define network\n",
    "    model = Sequential()\n",
    "    model.add(Dense(50, input_shape=(n_words,), activation= 'relu' ))\n",
    "    model.add(Dense(1, activation= 'sigmoid' ))\n",
    "  # compile network\n",
    "    model.compile(loss= 'binary_crossentropy' , optimizer= 'adam' , metrics=[ 'accuracy'])\n",
    "  # summarize defined model\n",
    "    model.summary()\n",
    "    #plot_model(model, to_file='model.png' , show_shapes=True)\n",
    "    return model\n",
    "\n",
    "vocab_filename = \"vocab.txt\"\n",
    "vocab = load_doc(vocab_filename)\n",
    "vocab = vocab.split()\n",
    "vocab = set(vocab)\n",
    "\n",
    "train_docs, ytrain = load_clean_dataset(vocab, True)\n",
    "test_docs, ytest = load_clean_dataset(vocab, False)\n",
    "tokenizer = create_tokenizer(train_docs)\n",
    "#print(Xtrain.shape, Xtest.shape)\n",
    "Xtrain = tokenizer.texts_to_matrix(train_docs, mode=\"binary\")\n",
    "Xtest = tokenizer.texts_to_matrix(test_docs, mode=\"binary\")\n",
    "# define the model\n",
    "n_words = Xtest.shape[1]\n",
    "model = define_model(n_words)\n",
    "# fit network\n",
    "model.fit(Xtrain, ytrain, epochs=10, verbose=2)\n",
    "# evaluate\n",
    "loss, acc = model.evaluate(Xtest, ytest, verbose=0)\n",
    "print( 'Test Accuracy: %f' % (acc*100))\n"
   ]
  },
  {
   "cell_type": "code",
   "execution_count": 11,
   "metadata": {},
   "outputs": [],
   "source": [
    "def predict_sentiment(review, vocab, tokenizer, model):\n",
    "    tokens = clean_doc(review)\n",
    "    tokens = [w for w in tokens if w in vocab]\n",
    "    line = ' '.join(tokens)\n",
    "    encoded = tokenizer.texts_to_matrix([line], mode= 'binary' )\n",
    "    yhat = model.predict(encoded, verbose=0)\n",
    "    percent_pos = yhat[0,0]\n",
    "    if round(percent_pos) == 0:\n",
    "        return (1-percent_pos), 'NEGATIVE'\n",
    "    return percent_pos,  'POSITIVE'"
   ]
  },
  {
   "cell_type": "code",
   "execution_count": 12,
   "metadata": {},
   "outputs": [
    {
     "name": "stdout",
     "output_type": "stream",
     "text": [
      "Review: [Best movie ever! It was great, I recommend it.]\n",
      "Sentiment: POSITIVE (56.387%)\n",
      "Review: [This is a bad movie.]\n",
      "Sentiment: NEGATIVE (64.274%)\n"
     ]
    }
   ],
   "source": [
    "text = 'Best movie ever! It was great, I recommend it.'\n",
    "percent, sentiment = predict_sentiment(text, vocab, tokenizer, model)\n",
    "print('Review: [%s]\\nSentiment: %s (%.3f%%)' % (text, sentiment, percent*100))\n",
    "text = 'This is a bad movie.'\n",
    "percent, sentiment = predict_sentiment(text, vocab, tokenizer, model)\n",
    "print('Review: [%s]\\nSentiment: %s (%.3f%%)' % (text, sentiment, percent*100))\n"
   ]
  },
  {
   "cell_type": "code",
   "execution_count": null,
   "metadata": {},
   "outputs": [],
   "source": []
  }
 ],
 "metadata": {
  "kernelspec": {
   "display_name": "Python 3",
   "language": "python",
   "name": "python3"
  },
  "language_info": {
   "codemirror_mode": {
    "name": "ipython",
    "version": 3
   },
   "file_extension": ".py",
   "mimetype": "text/x-python",
   "name": "python",
   "nbconvert_exporter": "python",
   "pygments_lexer": "ipython3",
   "version": "3.7.4"
  }
 },
 "nbformat": 4,
 "nbformat_minor": 2
}
